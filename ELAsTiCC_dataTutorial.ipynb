{
 "cells": [
  {
   "cell_type": "markdown",
   "id": "7e79b889-3aec-451d-b9a0-ba0bc869c0e9",
   "metadata": {
    "tags": []
   },
   "source": [
    "## The ELAsTiCC \"Starter Kit\" - Overview and Quick Look\n",
    "### Alex Gagliano, 07/25/2023 (gaglian2@illinois.edu)\n",
    "\n",
    "\n",
    "(With material recycled from the PLAsTiCC Starter Kit at \n",
    "https://github.com/LSSTDESC/plasticc-kit/blob/master/plasticc_astro_starter_kit.ipynb!)"
   ]
  },
  {
   "cell_type": "code",
   "execution_count": 1,
   "id": "ae654a28-8c11-4f7d-850c-84435bd833ed",
   "metadata": {},
   "outputs": [
    {
     "data": {
      "text/html": [
       "<style>.rendered_html { font-size: 20px; }</style>"
      ],
      "text/plain": [
       "<IPython.core.display.HTML object>"
      ]
     },
     "metadata": {},
     "output_type": "display_data"
    }
   ],
   "source": [
    "# You can edit the font size here to make rendered text more comfortable to read\n",
    "# It was built on a 15\" retina screen with 20px\n",
    "from IPython.display import display, HTML\n",
    "display(HTML(\"<style>.rendered_html { font-size: 20px; }</style>\"))"
   ]
  },
  {
   "cell_type": "markdown",
   "id": "db609ff7-1daf-4046-b61a-9614979d52e4",
   "metadata": {},
   "source": [
    "![](media/RubinObs.jpeg)\n",
    "(Credit: LSST Corporation)"
   ]
  },
  {
   "cell_type": "markdown",
   "id": "257abec8-37cb-4198-a0ec-b060d356b898",
   "metadata": {},
   "source": [
    "The Rubin Observatory's Legacy Survey of Space and Time is going to be revolutionary for time-domain astrophysics. Rubin is an 8-meter class telescope, which is not new, but its field of view is unprecedented for its class:"
   ]
  },
  {
   "cell_type": "markdown",
   "id": "68728b28-2652-4ebb-a271-cb05940b0961",
   "metadata": {},
   "source": [
    "![](media/LSST_FoV.jpg)\n",
    "\n",
    "(Credit: Zelko Ivezic, LSST)"
   ]
  },
  {
   "cell_type": "markdown",
   "id": "3eb50297-502e-4bc3-a5d0-c4b768285a15",
   "metadata": {},
   "source": [
    "Compare this with the field of view of the Hubble Space Telescope, outlined in white, relative to the full moon: \n",
    "    \n",
    "![](media/HST_field_of_view.jpg)"
   ]
  },
  {
   "cell_type": "markdown",
   "id": "2f6f4a2b-c686-4118-9e61-4ee52b26e0b8",
   "metadata": {},
   "source": [
    "Hubble observes a much smaller patch of sky than Rubin will, and collects light much more slowly. As a result, each and every week Rubin will find more transients than Hubble has ever seen _in its entire 30+ years of operation._\n",
    "\n",
    "In this short demo, we're going to take a whirwind tour through some data from the Extended LSST Astronomical Time-Series Classification Challenge (ELAsTiCC). We'll look at what transients the Rubin is expected to find, and what properties these transients have that help us characterize them. \n",
    "\n",
    "Rubin hasn't come online yet, so we can't use real data! This simulation combines our best models for many different types of transients, and combines how Rubin will scan the sky every night and what contributes to the uncertainty in our measurements.\n",
    "\n",
    "We'll begin by installing and importing some essential packages."
   ]
  },
  {
   "cell_type": "code",
   "execution_count": null,
   "id": "20c43068-2242-4b46-a0f3-b97993b744f1",
   "metadata": {},
   "outputs": [],
   "source": [
    "!pip install wget pandas numpy seaborn matplotlib astropy ephem"
   ]
  },
  {
   "cell_type": "code",
   "execution_count": null,
   "id": "e494a8af-e74c-45ea-9a8b-68f978a51f20",
   "metadata": {},
   "outputs": [],
   "source": [
    "import pandas as pd\n",
    "import numpy as np \n",
    "import seaborn as sns \n",
    "import matplotlib.pyplot as plt\n",
    "\n",
    "from collections import Counter\n",
    "import astropy.units as u\n",
    "from astropy.cosmology import FlatLambdaCDM, w0wzCDM\n",
    "import astropy.cosmology.units as cu\n",
    "from astropy.coordinates import SkyCoord\n",
    "import astropy.coordinates as coord\n",
    "import ephem"
   ]
  },
  {
   "cell_type": "markdown",
   "id": "20ddbfc9-0735-46b3-97c7-183d3caf2d8e",
   "metadata": {},
   "source": [
    "The dataset we're importing is only 10% of the ELAsTiCC training set! The full training set can be found at https://portal.nersc.gov/cfs/lsst/DESC_TD_PUBLIC/ELASTICC/#trainingset_elasticc2 (but it is much larger)."
   ]
  },
  {
   "cell_type": "code",
   "execution_count": null,
   "id": "20991ef7-708b-488e-8b18-ef868099f954",
   "metadata": {},
   "outputs": [],
   "source": [
    "import wget \n",
    "\n",
    "remote_url = \"https://uofi.box.com/shared/static/2c9w6uvrzelkbzgxy9zujbl3hw35rpsj.json\"\n",
    "name = \"ELAsTiCC10pct_tutorial.json\"\n",
    "wget.download(remote_url, name)\n",
    "df = pd.read_json(name)"
   ]
  },
  {
   "cell_type": "markdown",
   "id": "e660f0b5-02fc-4938-b6e9-755b7fc96d52",
   "metadata": {},
   "source": [
    "For simplicity, we've saved the brightness measurements and the ancillary data (like the properties of the host galaxy) as one table in json format. This saves arrays as lists, but to manipulate these data we'll have to turn these back into arrays:"
   ]
  },
  {
   "cell_type": "code",
   "execution_count": null,
   "id": "53718fa6-bd87-4bd5-a5fa-f1ee7da28114",
   "metadata": {},
   "outputs": [],
   "source": [
    "#we saved some json variables as a list, so we need to convert them back to arrays \n",
    "for col in ['MJD', 'Flux', 'Flux_Err', 'Flux', 'Mag', 'Mag_Err']:\n",
    "    df[col] = [np.array(x, dtype=float) for x in df[col]]\n",
    "for col in ['Band']:\n",
    "    df[col] = [np.array(x) for x in df[col]]"
   ]
  },
  {
   "cell_type": "markdown",
   "id": "50ce7f76-7173-472c-9341-2c85b9cfa764",
   "metadata": {},
   "source": [
    "Note that the dataset that we're using is the general Wide-Fast-Deep survey that Rubin will conduct. Another survey of Deep Drilling Fields will take place at much higher cadence. \n",
    "\n",
    "As we mentioned before, this photometry is obtained through _difference imaging_: We take the difference between two images at different dates, and if the flux has increased in a pixel between these two dates then the difference image will show a bright point. Here is an example of a reference (left), science (middle), and difference (right) image in R-band. "
   ]
  },
  {
   "cell_type": "markdown",
   "id": "13083f0f-4930-40d4-85ff-05210a24d0ac",
   "metadata": {},
   "source": [
    "<img src=\"media/DIA.png\"  width=\"80%\" height=\"40%\">\n",
    "\n",
    "(Credit: PLAsTiCC Starter Kit) "
   ]
  },
  {
   "cell_type": "markdown",
   "id": "29db6d76-9d90-46dc-ae71-f3fa24d17354",
   "metadata": {},
   "source": [
    "This source will have a positive 'Flux' value at 2007-09-11. Because the eye's response to light is logarithmic in nature and not linear, however, we typically don't look at the raw flux of a source. We look at its _magnitude_, which is proportional to the base-10 log of its flux. We'll look at both in this tutorial. "
   ]
  },
  {
   "cell_type": "markdown",
   "id": "0e57154c-51d0-4e93-932a-9d60b8bed6a0",
   "metadata": {},
   "source": [
    "Let's first look at a few entries in the full dataframe:"
   ]
  },
  {
   "cell_type": "code",
   "execution_count": null,
   "id": "7215389a-f1b7-4a52-a8c9-43dfa099a54e",
   "metadata": {},
   "outputs": [],
   "source": [
    "df.sample(n=5)"
   ]
  },
  {
   "cell_type": "markdown",
   "id": "954e7b45-60a6-448c-93c6-d77ec3c8e6ab",
   "metadata": {},
   "source": [
    "This is the training set, so the transient type is given. In reality, many of the algorithms we're developing for first light are oriented toward trying to figure out what we're looking at! For now, let's take a look at the class breakdown:"
   ]
  },
  {
   "cell_type": "code",
   "execution_count": null,
   "id": "b183656b-dbab-4cc2-85e3-c8acaee12d27",
   "metadata": {},
   "outputs": [],
   "source": [
    "#create a dictionary of the counts for each type\n",
    "Counts = Counter(df['Type'])\n",
    "\n",
    "#plot them as a bar graph\n",
    "sns.set_context(\"talk\")\n",
    "plt.figure(figsize=(25, 7))\n",
    "plt.bar(*zip(*Counts.items()))\n",
    "plt.xticks(rotation=45, ha='right')\n",
    "plt.show()"
   ]
  },
  {
   "cell_type": "markdown",
   "id": "60bde456-aac5-4d95-8390-15c1fb921522",
   "metadata": {},
   "source": [
    "The training set includes a variety of different transient types, including:\n",
    "\n",
    "* Secular, Pulsating and Eruptive Variable Stars\n",
    "* Tidal Disruption Events\n",
    "* Kilonovae\n",
    "* Supernovae of different types (SN Ia/II/Ibc, PISN)\n",
    "* Active Galactic Nuclei\n",
    "* Microlensing Events\n",
    "* Eclipsing Binaries"
   ]
  },
  {
   "cell_type": "markdown",
   "id": "c37a27d8-40ad-4023-9cd0-053b7dab9091",
   "metadata": {},
   "source": [
    "Note how imbalanced the dataset is! This is by design - we find transients at dramatically different rates, some because they happen less often in the universe and others because they are fainter than others (or happen much further away). In this case, we find more SNe Ia than any other classes becuase they are both relatively common and extremely bright!\n",
    "\n",
    "Note that this is 10% of the _training set_, which doesn't have a _completely_ representative sample of events. If you're training an algorithm to learn what each of these transients look like, it's useful to have more events than you might actually see in nature (especially for rarer classes). Still, we tried to include more events of common classes and few events of rare classes. More details on these models can be found in the original plasticc papers at https://arxiv.org/pdf/1903.11756.pdf. \n",
    "\n",
    "What properties do we have for these transients?"
   ]
  },
  {
   "cell_type": "code",
   "execution_count": null,
   "id": "ef529f7d-d488-4d5d-b70e-3773c3b5be4d",
   "metadata": {},
   "outputs": [],
   "source": [
    "df.columns.values"
   ]
  },
  {
   "cell_type": "markdown",
   "id": "56e05485-eaf2-46f4-98a4-bc50acce9c3f",
   "metadata": {},
   "source": [
    "Some of these properties wll not actually be reported by the Rubin Observatory - for example, the derived properties of the host galaxy cannot be easily calculated from photometry alone. But many of these will be (photo-z, which we'll talk about in a bit, and the the coordinates where we saw the transient take place). Let's take a look at the coordinates:"
   ]
  },
  {
   "cell_type": "code",
   "execution_count": null,
   "id": "6f5d886f-eb28-4fd2-a3e2-35275ba177ae",
   "metadata": {},
   "outputs": [],
   "source": [
    "#astronomy units are funny - east and west are switched because you look OUT at the celestial sphere \n",
    "#rather than in like you would for the surface of the Earth.\n",
    "ra = coord.Angle(-df['RA'].values*u.degree)\n",
    "ra = ra.wrap_at(180*u.degree)\n",
    "dec = coord.Angle(df['Dec'].values*u.degree)"
   ]
  },
  {
   "cell_type": "code",
   "execution_count": null,
   "id": "07e57166-3fe4-40be-be09-b70d1f428f9e",
   "metadata": {},
   "outputs": [],
   "source": [
    "#let's plot a map projection of where in the sky these events happen:\n",
    "fig = plt.figure(figsize=(10,7))\n",
    "ax = fig.add_subplot(111, projection=\"mollweide\")\n",
    "ax.scatter(ra.radian, dec.radian, s=0.05)\n",
    "ax.grid(True)\n",
    "plt.show()"
   ]
  },
  {
   "cell_type": "markdown",
   "id": "9f4725f9-09fd-4d0e-ae1c-6ef629161dcd",
   "metadata": {},
   "source": [
    "What do we notice? \n",
    "\n",
    "Compare this with the planned survey strategy of Rubin's LSST: "
   ]
  },
  {
   "cell_type": "markdown",
   "id": "5b9265d6-c740-4cd3-b9ce-70d7cc8e6508",
   "metadata": {},
   "source": [
    "![](media/RubinLSST.png)\n",
    "\n",
    "(Credit: Guy et al., 2022)"
   ]
  },
  {
   "cell_type": "markdown",
   "id": "cfb3ab37-14f9-48bb-96fb-1e0efc5e4be4",
   "metadata": {},
   "source": [
    "Next, do we expect all transients to be found in similar locations on the sky? Why or why not? Where does the galactic plane fall?"
   ]
  },
  {
   "cell_type": "code",
   "execution_count": null,
   "id": "ec2929a9-d728-4021-bbac-955fe94b8a44",
   "metadata": {},
   "outputs": [],
   "source": [
    "def convert_mollweide(ra, dec):\n",
    "    ra = coord.Angle(-ra*u.degree)\n",
    "    ra = ra.wrap_at(180*u.degree)\n",
    "    dec = coord.Angle(dec*u.degree)\n",
    "    return ra, dec\n",
    "    \n",
    "fig = plt.figure(figsize=(10,7))\n",
    "ax = fig.add_subplot(111, projection=\"mollweide\")\n",
    "ax.grid(True)\n",
    "    \n",
    "for transient_class in ['SNIa-SALT2']:\n",
    "    subset = df.loc[df['Type'] == transient_class]\n",
    "    ra, dec = convert_mollweide(subset['RA'].values, subset['Dec'].values)\n",
    "    ax.scatter(ra.radian, dec.radian, s=0.05)"
   ]
  },
  {
   "cell_type": "markdown",
   "id": "ac1d18e4-c68d-4a2e-ae95-b975ec5d6a8e",
   "metadata": {},
   "source": [
    "What is causing the big gap on the right and left sides? Hint: here's the path that the Milky Way traces in this projection: "
   ]
  },
  {
   "cell_type": "code",
   "execution_count": null,
   "id": "03f94d26-2c1e-42b0-9e76-4154a92ecb13",
   "metadata": {},
   "outputs": [],
   "source": [
    "fig = plt.figure(figsize=(10,7))\n",
    "ax = fig.add_subplot(111, projection=\"mollweide\")\n",
    "ax.grid(True)\n",
    "\n",
    "lon_array = np.arange(0,360)\n",
    "eq_array = np.zeros((360,2))\n",
    "for lon in lon_array:\n",
    "    ga = ephem.Galactic(np.radians(lon), np.radians(0))\n",
    "    eq = ephem.Equatorial(ga)\n",
    "    eq_array[lon] = np.degrees(eq.get())\n",
    "    RA = eq_array[:,0]\n",
    "    Dec = eq_array[:,1]\n",
    "    \n",
    "RA, Dec = convert_mollweide(RA, Dec)\n",
    "ax.scatter(RA.radian, Dec.radian, s=500, alpha=0.05, c='k')\n",
    "plt.show()"
   ]
  },
  {
   "cell_type": "markdown",
   "id": "d597096b-951b-4ab6-baef-a4d2af7d8243",
   "metadata": {},
   "source": [
    "We avoid looking for things outside our galaxy along the Galactic plane, where there's so many stars and so much dust _from_ our galaxy that there isn't much to see. We're also excluding the deep drilling fields in this dataset, as we mentioned. Here's a more detailed picture of the planned survey:"
   ]
  },
  {
   "cell_type": "markdown",
   "id": "50ac21da-8909-4014-83ad-98cccc887479",
   "metadata": {},
   "source": [
    "<img src=\"media/skymap.jpeg\"  width=\"80%\" height=\"40%\">\n",
    "(Credit: LSST Corporation)"
   ]
  },
  {
   "cell_type": "markdown",
   "id": "ab126ee6-bea8-4059-97df-3365a67c4b0e",
   "metadata": {},
   "source": [
    "Now let's look at the photometry, or how an event changes brightness over time. We call this an event's _light curve_.\n",
    "\n",
    "# 1. Plot a single light curve."
   ]
  },
  {
   "cell_type": "markdown",
   "id": "237f8c2c-48f6-4fb9-9704-126ebce2c011",
   "metadata": {},
   "source": [
    "Let's take the first event in the sample, and plot it. "
   ]
  },
  {
   "cell_type": "code",
   "execution_count": null,
   "id": "161955c2-717a-4c42-9725-652b7f5b81bb",
   "metadata": {},
   "outputs": [],
   "source": [
    "transient1 = df.iloc[0]\n",
    "print(transient1['Type'])"
   ]
  },
  {
   "cell_type": "code",
   "execution_count": null,
   "id": "f8541d6f-a989-4d5a-bb54-77db66c6c21f",
   "metadata": {},
   "outputs": [],
   "source": [
    "plt.figure(figsize=(10,7))\n",
    "for band in 'ugrizY':\n",
    "    idx = transient1['Band'] == band\n",
    "    plt.plot(transient1['MJD'][idx], transient1['Flux'][idx], 'o', label=band)\n",
    "plt.legend();\n",
    "plt.xlabel(\"Time (Modified Julian Date)\");\n",
    "plt.ylabel(\"Flux\");"
   ]
  },
  {
   "cell_type": "markdown",
   "id": "326e960e-da97-459f-89b8-0a98c7b0ecae",
   "metadata": {},
   "source": [
    "We can see that \n",
    "\n",
    "A) The event gets brighter between MJD 610000 and 61200,\n",
    "\n",
    "B) A lot of observations have around 0 flux before and after the event took place, and \n",
    "\n",
    "C) There are gaps in between sets of observations. This is a reflection of the observing strategy of the telescope - how often our telescope looks at the same part of the sky."
   ]
  },
  {
   "cell_type": "markdown",
   "id": "1e287be7-f1a4-47f9-ad68-52affd0b29c0",
   "metadata": {},
   "source": [
    "# 2. Now let's plot many i-band light curves of a single class."
   ]
  },
  {
   "cell_type": "code",
   "execution_count": null,
   "id": "d618bf29-4aab-4b1e-9ac6-8b375399dc21",
   "metadata": {},
   "outputs": [],
   "source": [
    "SNIa_1k = df.loc[df['Type'] == 'SNIa-SALT2'].sample(1000).reset_index()\n",
    "plt.figure(figsize=(10,7))\n",
    "for idx, row in SNIa_1k.iterrows():\n",
    "    ii = row['Band'] == 'i'\n",
    "    plt.plot(row['MJD'][ii], row['Mag'][ii], 'o', c='tab:blue', ms=1)\n",
    "plt.gca().invert_yaxis()\n",
    "plt.xlabel(\"Time (Modified Julian Date)\")\n",
    "plt.ylabel(\"Apparent Magnitude\")\n",
    "plt.show()"
   ]
  },
  {
   "cell_type": "markdown",
   "id": "de330cb7-c664-49f6-830c-d708bb90d4ac",
   "metadata": {},
   "source": [
    "This is pretty messy...Is there a more useful way to compare light curves? What if we line them all up pretending that they all happened at the same time? This might help us to compare how quickly each one brightens and dims, which ones end first, and how bright they get relative to each other."
   ]
  },
  {
   "cell_type": "code",
   "execution_count": null,
   "id": "01dfa46c-3ab0-4597-9bfc-b69dc5f95fbc",
   "metadata": {},
   "outputs": [],
   "source": [
    "plt.figure(figsize=(10,7))\n",
    "for idx, row in SNIa_1k.iterrows():\n",
    "    ii = row['Band'] == 'i'\n",
    "    discovery_date = row['discovery_date']\n",
    "    plt.plot(row['MJD'][ii]-discovery_date, row['Mag'][ii], 'o-', c='tab:blue', lw=0.5, alpha=0.5, ms=1)\n",
    "\n",
    "#plot just one\n",
    "SN = 20\n",
    "\n",
    "ii = SNIa_1k.loc[SN, 'Band'] == 'i'\n",
    "discovery_date = SNIa_1k.loc[SN, 'discovery_date']\n",
    "plt.plot(SNIa_1k.loc[SN, 'MJD'][ii]-discovery_date, SNIa_1k.loc[SN, 'Mag'][ii], 'o', c='tab:red', ms=10, zorder=100)\n",
    "\n",
    "\n",
    "plt.xlim((-20, 100))\n",
    "plt.ylim((27, 21))\n",
    "plt.xlabel(\"Time (Relative to Discovery)\")\n",
    "plt.ylabel(\"Apparent Magnitude\")\n",
    "plt.show()"
   ]
  },
  {
   "cell_type": "markdown",
   "id": "777d1ee4-ba6b-49cf-a4d2-77504a76b552",
   "metadata": {},
   "source": [
    "We can see how much variation there is even with SNe Ia, not just in how dim or bright they are but in how quickly they decline (and I don't show this, but in their color too). One caveat here is that I'm not correcting for Galactic extinction, which reddens the light from transients as you look through more and more dust from our Galaxy."
   ]
  },
  {
   "cell_type": "markdown",
   "id": "9e949c1c-f3d5-4efb-bcdb-780da04e2d45",
   "metadata": {},
   "source": [
    "Let's do this with different types of phenomena - plot the light curves of a few different events in our sample:"
   ]
  },
  {
   "cell_type": "code",
   "execution_count": null,
   "id": "8305ead4-e435-4e33-8077-60c0a7771033",
   "metadata": {},
   "outputs": [],
   "source": [
    "# pick the second event of each class (these happened to look pretty)\n",
    "idx_event = 2\n",
    "\n",
    "plt.figure(figsize=(10,7))\n",
    "# let's look at three very different types of events - dwarf novae, when one material accretes material from a secondary; SN II,\n",
    "# when a young star explodes; and PISNe, a theoretical explosion that can only occur in the most massive stars that ever lived.\n",
    "for event in ['dwarf-nova', 'SNII-NMF', 'PISN']:\n",
    "    subset = df[df['Type'] == event]\n",
    "    ii = subset.iloc[idx_event]['Mag_Err'] < 0.5\n",
    "    discovery_date = subset.iloc[idx_event]['discovery_date']\n",
    "    phase = subset.iloc[idx_event]['MJD'][ii] - discovery_date\n",
    "    mag = subset.iloc[idx_event]['Mag'][ii]\n",
    "    magerr = np.abs(subset.iloc[idx_event]['Mag_Err'])[ii]\n",
    "    plt.errorbar(phase, mag, magerr, fmt='o', label=event)\n",
    "plt.gca().invert_yaxis()\n",
    "plt.legend()\n",
    "plt.xlim((-10, 130))\n",
    "plt.ylim((26, 16));\n",
    "plt.xlabel(\"Time from Discovery (Days)\")\n",
    "plt.ylabel(\"Apparent Magnitude\");"
   ]
  },
  {
   "cell_type": "markdown",
   "id": "b3505efc-a09b-43e5-aa74-85a32973fae4",
   "metadata": {},
   "source": [
    "Think of the intuition behind this - this is, in any band, how bright each event is relative to when we first discovered it. The fact that we can distinguish between events in this space suggests that \n",
    "this is a useful discriminator between phenomena - how rapidly an event brightens and dims, how bright it gets, whether it changes color...These have become essential for identifying and classifying events using machine-learning algorithms. Let's look at the typical light curve of supernovae of different classes:"
   ]
  },
  {
   "cell_type": "markdown",
   "id": "6cfdf7af-d05f-4563-88bf-11a55b77ba09",
   "metadata": {},
   "source": [
    "![](media/SNe.png)\n",
    "\n",
    "Much of the time, people will calculate many features _from_ the light curves instead of using the light curves directly. We'll do a bit of that below. "
   ]
  },
  {
   "cell_type": "markdown",
   "id": "3015837e-44b6-41eb-a403-4ca808970e9b",
   "metadata": {},
   "source": [
    "# 3. Plot the timescales of transients in our sample.\n",
    "\n",
    "Now let's look at how long transients in our sample tend to last. I've pre-computed T_FWHM, the time it takes from when it reaches half its maximum brightness to when it dims to that same level again. This is just to get some standard measurement for timescale (especially when some events brighten and dim quickly, whereas others brighten quickly and dim slowly, depending on the physics producing the event). There are others measurements you could use. "
   ]
  },
  {
   "cell_type": "code",
   "execution_count": null,
   "id": "6110e0d7-8d91-45d1-b748-94d05278c49e",
   "metadata": {},
   "outputs": [],
   "source": [
    "plt.figure(figsize=(10,7))\n",
    "plt.hist(df['T_FWHM'], bins=np.linspace(1, 50));\n",
    "plt.xlabel(\"Characteristic Timescale (Days)\");\n",
    "plt.ylabel(\"Number of Transients\");"
   ]
  },
  {
   "cell_type": "markdown",
   "id": "ed927717-9c56-4d2e-88d2-c09474d3b498",
   "metadata": {},
   "source": [
    "Anything particularly interesting to note here? There are at least 3 peaks - maybe more! One around a few days, one 10-20 days, and one around 40 days. This points to specific classes having different timescales, which hints at their emission processes."
   ]
  },
  {
   "cell_type": "code",
   "execution_count": null,
   "id": "7a32d86d-6d1c-46b1-98d4-7cd4549381ec",
   "metadata": {},
   "outputs": [],
   "source": [
    "plt.figure(figsize=(10,7))\n",
    "for transient_class in ['PISN', 'SNII-NMF', 'd-Sct']:\n",
    "    plt.hist(df.loc[df['Type'] == transient_class, 'T_FWHM'], bins=np.linspace(0.5, 600), alpha=0.5, label=transient_class, density=True);\n",
    "    plt.xlabel(\"Characteristic Timescale (Days)\")\n",
    "    plt.ylabel(\"Number of Transients\");\n",
    "plt.ylim((0, 0.02))\n",
    "plt.legend();"
   ]
  },
  {
   "cell_type": "markdown",
   "id": "9ce4b9e4-7328-4f98-9b7b-f2b5fd34d89d",
   "metadata": {},
   "source": [
    "Remember again how long-lasting the PISNe are and how much rapidly-evolving the SNe II are! This is just the timescale - machine learning methods in practice use a million different properties of the light curve, each meaning slightly different things. Just check out https://alerce.science/features/!\n",
    "\n",
    "Many of these are explained in more detail (and their value for classification) at https://github.com/LSSTDESC/plasticc-kit/blob/master/plasticc_classification_demo.ipynb. "
   ]
  },
  {
   "cell_type": "markdown",
   "id": "ecca1701-6724-439f-8fb0-1c01c7820438",
   "metadata": {},
   "source": [
    "## 4. Now, get the redshifts of the transients. What does the distribution look like? \n",
    "Photometric redshifts are how we estimate a galaxy's distance from its color. Because the Universe is expanding, galaxies further from us should experience a greater Doppler shift and its light should be shifted more toward red wavelengths. \n",
    "\n",
    "These are a massive area of active research, with lots of pitfalls - in general far away galaxies are redder, but dustier galaxies are also redder, and  galaxies with many old stars are also redder). So there are lots of tricks to estimating how far away a galaxy is just by its color and brightness. \n",
    "\n",
    "People devote their entire careers to this kind of thing! "
   ]
  },
  {
   "cell_type": "code",
   "execution_count": null,
   "id": "00ccf713-b519-4c32-9ba0-20bd1472394a",
   "metadata": {},
   "outputs": [],
   "source": [
    "plt.figure(figsize=(10,7))\n",
    "plt.hist(df['hostgal_photoz'], bins=np.linspace(0, 2));\n",
    "plt.xlabel(\"Photometric Redshift\");\n",
    "plt.ylabel(\"Number of Events\");"
   ]
  },
  {
   "cell_type": "markdown",
   "id": "2d9bac5f-e654-4d21-9078-7d146c36bb1e",
   "metadata": {},
   "source": [
    "What do we notice? \n",
    "\n",
    "The distribution goes from 0 to 1 and drops off shortly thereafter. One of the most impressive things about the Rubin observatory is going to be its ability to find distant supernovae.\n",
    "\n",
    "How well do we do with these redshift estimates?"
   ]
  },
  {
   "cell_type": "code",
   "execution_count": null,
   "id": "9d81d363-f9f8-42e7-89a1-f570a1d89479",
   "metadata": {},
   "outputs": [],
   "source": [
    "plt.plot(df['true_redshift'], df['hostgal_photoz'], 'o', ms=0.1)\n",
    "plt.xlim((0, 1))\n",
    "plt.ylim((0, 1));\n",
    "plt.plot(np.linspace(0, 1), np.linspace(0, 1), c='k');\n",
    "plt.xlabel(\"True redshift\")\n",
    "plt.ylabel(\"Photometric redshift\");"
   ]
  },
  {
   "cell_type": "markdown",
   "id": "cbe4fe41-8a5d-4573-9c25-cf1a4a3e6edc",
   "metadata": {},
   "source": [
    "These are simulated redshifts, so the relationship looks tight. In reality, the relationship can be a lot messier:"
   ]
  },
  {
   "cell_type": "markdown",
   "id": "7b997c32-6f1c-49f3-8c0d-509e53bebdf1",
   "metadata": {},
   "source": [
    "![](media/photoz_plotting.png)"
   ]
  },
  {
   "cell_type": "markdown",
   "id": "8a6004bd-3663-4d0e-9dce-68baa584d8e5",
   "metadata": {},
   "source": [
    "(from https://www.astroml.org/examples/learning/plot_neighbors_photoz.html)."
   ]
  },
  {
   "cell_type": "markdown",
   "id": "401c23fa-7dcb-466b-814d-ab86c96e3796",
   "metadata": {},
   "source": [
    "### 5. Now, let's use the photometric redshift to compute a distance. \n",
    "It's important to know that we have to assume a cosmology here to go from redshift to distance. This is an important assumption that we make and could be wrong! Has anyone heard of the Hubble Tension? But our current cosmological model is doing very, very well, so we won't be that far off in any case. Further down, we go the other direction, and use supernovae to constrain our cosmological model."
   ]
  },
  {
   "cell_type": "code",
   "execution_count": null,
   "id": "817113a6-baa1-4db7-a114-6d3b4cf310c5",
   "metadata": {},
   "outputs": [],
   "source": [
    "from astropy.cosmology import w0wzCDM \n",
    "\n",
    "#redshift to distance - note that we have to assume a cosmology here!\n",
    "cosmology = w0wzCDM(H0=70, Om0=0.3, Ode0=0.7, w0=-1.0, wz=0.0)\n",
    "\n",
    "#create a dummy column for now in our table\n",
    "df['Abs_Mag'] = df['Mag'].copy()\n",
    "\n",
    "#loop over the dataset and convert redshift to distance\n",
    "for idx, row in df.iterrows():\n",
    "    z = row['hostgal_photoz'] * cu.redshift\n",
    "    d_pc = z.to(u.pc, cu.redshift_distance(cosmology)) \n",
    "    M = -5 * np.log10(d_pc/(10*u.pc)) + row['Mag']\n",
    "    df.at[idx, 'Abs_Mag'] = M\n",
    "    \n",
    "    #get the minimum absolute magnitude to get the peak brightness\n",
    "    Peak_Abs_Mag = np.nanmin(M)\n",
    "    df.at[idx, 'Peak_Abs_Mag'] = Peak_Abs_Mag"
   ]
  },
  {
   "cell_type": "markdown",
   "id": "9d409571-841c-4a8d-94fa-9d3d3b0a7572",
   "metadata": {},
   "source": [
    "And the distribution?"
   ]
  },
  {
   "cell_type": "code",
   "execution_count": null,
   "id": "2ab923f3-03af-42b9-a521-88ba8cfa2a08",
   "metadata": {},
   "outputs": [],
   "source": [
    "plt.hist(df['Peak_Abs_Mag'].values, bins=np.linspace(-23, -15, 150));\n",
    "plt.xlabel(\"Absolute Magnitude\");\n",
    "plt.ylabel(\"Number of Transients\");"
   ]
  },
  {
   "cell_type": "markdown",
   "id": "3519af84-d4c5-4177-a1ea-528fddee1639",
   "metadata": {},
   "source": [
    "We see a peak around -19, which is where most SNe Ia peak, but there is also some bimodality - clearly there are some brighter events in our sample."
   ]
  },
  {
   "cell_type": "markdown",
   "id": "ff92a501-ac3e-49ed-9eac-6cd6a44c9648",
   "metadata": {},
   "source": [
    "We can see that there are some differences in timescale, and differences in brightness. Let's tie those two ideas together by making a plot of one versus the other. \n",
    "\n",
    "What if we just want to separate out one classs? "
   ]
  },
  {
   "cell_type": "code",
   "execution_count": null,
   "id": "57c9020e-107a-49e1-a3db-ba4756b7d16a",
   "metadata": {},
   "outputs": [],
   "source": [
    "import matplotlib.colors as mcolors\n",
    "\n",
    "extragalactic = df.dropna(subset=['T_FWHM', 'Peak_Abs_Mag'])\n",
    "\n",
    "plt.figure(figsize=(10,10))\n",
    "plt.hist2d(np.log10(extragalactic['T_FWHM']), extragalactic['Peak_Abs_Mag'], bins=(1000, 250), norm=mcolors.PowerNorm(0.8));\n",
    "#plt.plot(np.log10(extragalactic.loc[extragalactic['Type'] == 'PISN', 'T_FWHM']), extragalactic.loc[extragalactic['Type'] == 'PISN', 'Peak_Abs_Mag'], 'o', c='w', mec='w', ms=0.5, alpha=0.5)\n",
    "#plt.axvline(x=2.2, ls='--', c='tab:red')\n",
    "#plt.axhline(y=-19.7, ls='--', c='tab:red')\n",
    "plt.xlim((0, 4));\n",
    "plt.ylim((-23, -15));\n",
    "plt.xlabel(r\"log$_{10}$(Timescale [Days])\")\n",
    "plt.ylabel(\"Absolute Magnitude\");"
   ]
  },
  {
   "cell_type": "markdown",
   "id": "2f470bd2-ec1c-4cab-bd88-4177563d4c4c",
   "metadata": {},
   "source": [
    "What do we notice about this plot?"
   ]
  },
  {
   "cell_type": "markdown",
   "id": "b86029e5-ef0e-46fb-affa-99be17305024",
   "metadata": {},
   "source": [
    "# 6. What do the properties of the host galaxies look like? \n",
    "There are a million open questions about how stars explode, and one of the ways that we can gain more insight is by looking into the explosion environment. This works because different explosions come from different stars, and galaxies are made up of old and young, massive and not-so-massive stars in varying proportions. This has dramatic consequences for how the galaxies look: "
   ]
  },
  {
   "cell_type": "markdown",
   "id": "a271549a-cf28-4173-8c5c-39d65737d806",
   "metadata": {},
   "source": [
    "<img src=\"media/typesOfGalaxies.jpeg\"  width=\"60%\" height=\"40%\">"
   ]
  },
  {
   "cell_type": "markdown",
   "id": "61e7c5d6-6f71-4637-9ae2-c7038dec7091",
   "metadata": {},
   "source": [
    "Let's look at three different types of explosion here."
   ]
  },
  {
   "cell_type": "code",
   "execution_count": null,
   "id": "184f922a-9bf4-426f-9e8e-ce4ee48f6238",
   "metadata": {},
   "outputs": [],
   "source": [
    "plt.figure(figsize=(10,7))\n",
    "for transient_class in ['SNIa-SALT2','SNIax', 'SNIa-91bg']:\n",
    "    plt.plot(df.loc[df['Type'] == transient_class, 'hostgal_logmass'], df.loc[df['Type'] == transient_class, 'hostgal_logsfr'], 'o', ms=5, label=transient_class, zorder=100);\n",
    "plt.legend()\n",
    "plt.xlabel(r\"log$_{10}$(Stellar Mass/M$_{\\odot}$)\");\n",
    "plt.ylabel(r\"log$_{10}$(SFR/M$_{\\odot}\\;yr^{-1}$)\");"
   ]
  },
  {
   "cell_type": "markdown",
   "id": "0fcad60c-eae0-41e6-8b99-d993262a2aa9",
   "metadata": {},
   "source": [
    "SNe Iax happen more often in highly star-forming galaxies - see page 10 of https://arxiv.org/pdf/1707.01110.pdf! SNIa-91bg-like SNe prefer ellipticals with mostly old stars - see https://arxiv.org/pdf/1906.10501.pdf. \n",
    "\n",
    "We've put in a lot of effort to make these correlations realistic, so that they can be used to better classify transients when light curve information alone isn't enough. This is an active area of research - reach out if you'd like to get involved! "
   ]
  },
  {
   "cell_type": "markdown",
   "id": "b4b6d1b6-e3f1-41a3-8e3b-c6126d2e36d6",
   "metadata": {},
   "source": [
    "In reality, Rubin dataset will not be analyzed on-disk in its entirety (or even a large fraction) - it will be analyzed remotely using alert brokers. See e.g., https://antares.noirlab.edu/loci if you'd like to look at how the data will be presented, and how you can start analyzing it.\n",
    "\n",
    "How are the brokers doing on the ELAsTiCC data? Check out https://desc-tom.lbl.gov/elasticc/ to find out!"
   ]
  },
  {
   "cell_type": "markdown",
   "id": "60128f6e-1a3b-4bb5-91da-b6808ffd8896",
   "metadata": {},
   "source": [
    "That's the end of this tutorial! One final point - these simulations are based on what we think we'll find. Every time we run a revolutionary survey, we find unexpected things. LSST is no different. To try and plan for the unexpected, ELAsTiCC data also contains at least a few events that we've never seen before in nature - including a few theorized technosignatures. After months of streaming the data, _not a single team has found this signal_. You can build new tools for the search as a graduate student, and help us to make these groundbreaking discoveries."
   ]
  },
  {
   "cell_type": "markdown",
   "id": "436350b5-f7d3-4659-be01-d02f97525359",
   "metadata": {},
   "source": [
    "Questions? Comments? Reach out anytime at gaglian2@illinois.edu."
   ]
  },
  {
   "cell_type": "markdown",
   "id": "25f99ff0-bd6d-4f9f-9664-8e4144e0b119",
   "metadata": {},
   "source": [
    "# Extra credit. A very basic cosmological analysis with SNe Ia\n",
    "One of the big drivers of Rubin Observatory is to understand the nature of dark energy, which we believe is a field that pushes things apart. Type Ia supernovae are a great way to do this - we know very well how they evolve, because it's remarkably constant throughout the Universe. This is actually still a mystery - models for their explosion suggest that the explosions should be more different than they are. Anyway, the fact that they're predictable is great for us, because when one explodes we can calculate how far away it is from how dim it is relative to our expectations. Type Ia supernovae confirmed that the universe's expansion was accelerating in the 90's, which led to the 2011 Nobel Prize in Physics."
   ]
  },
  {
   "cell_type": "markdown",
   "id": "ed96f094-08d4-43ef-9137-8610e052e55e",
   "metadata": {},
   "source": [
    "Let's look at how this works in a little more detail. What is the absolute brightness of a type Ia supernova in our sample, when we assumed a cosmological model?"
   ]
  },
  {
   "cell_type": "markdown",
   "id": "7f1800df-98ac-4e41-94f5-eea507048dd2",
   "metadata": {},
   "source": [
    "One more thing - let's calculate the maximum flux in r-band. This will be useful to us later on."
   ]
  },
  {
   "cell_type": "code",
   "execution_count": null,
   "id": "ae5f61ca-2cc2-44f5-bb90-9acc82326fcd",
   "metadata": {},
   "outputs": [],
   "source": [
    "for idx, row in df.iterrows():\n",
    "    ii = row['Band'] == 'r'\n",
    "    rMagMin = np.nanmin(row['Mag'][ii])\n",
    "    df.at[idx, 'rMagMin'] = rMagMin"
   ]
  },
  {
   "cell_type": "code",
   "execution_count": null,
   "id": "41bf4ad6-d64e-42b4-a572-0f8687b7a228",
   "metadata": {},
   "outputs": [],
   "source": [
    "SNIa = df.loc[df['Type'] == 'SNIa-SALT2']\n",
    "\n",
    "plt.hist(SNIa['Peak_Abs_Mag'], bins=np.linspace(-22, -16));\n",
    "plt.axvline(x=np.nanmedian(SNIa['Peak_Abs_Mag']), ls='--', c='tab:red', zorder=100)\n",
    "plt.xlabel(\"Peak Absolute Magnitude\");\n",
    "plt.ylabel(\"Number of Events\");"
   ]
  },
  {
   "cell_type": "markdown",
   "id": "44f79c45-cf89-4da0-b10b-48a8b0f2f017",
   "metadata": {},
   "source": [
    "Pretty consistent. What if we don't want to assume a cosmological model - we want to test one? Let's assume for simplicity that all SNe Ia have their maximum brightness at exactly M = -19."
   ]
  },
  {
   "cell_type": "code",
   "execution_count": null,
   "id": "afcdd75a-f5cb-4154-80cc-e12dba9589e1",
   "metadata": {},
   "outputs": [],
   "source": [
    "Mtrue = -19.0"
   ]
  },
  {
   "cell_type": "markdown",
   "id": "3d2f504a-874b-4eff-bcd6-db1659f24964",
   "metadata": {},
   "source": [
    "Now we calculate what's called a _distance modulus_, the difference between the observed and the absolute brightness of an object. "
   ]
  },
  {
   "cell_type": "code",
   "execution_count": null,
   "id": "9bf42be6-781a-45f6-8a07-6024b6304a58",
   "metadata": {},
   "outputs": [],
   "source": [
    "SNIa['dm'] = SNIa['rMagMin'] - Mtrue"
   ]
  },
  {
   "cell_type": "markdown",
   "id": "ae54e72e-16c2-492f-991b-16aa40cc9d67",
   "metadata": {},
   "source": [
    "One more term that we have to add (in our simple model) is part of what's called a \"k-correction\" - and this accounts for how light is redshifted more the further away the supernova is. "
   ]
  },
  {
   "cell_type": "code",
   "execution_count": null,
   "id": "183dd55c-cc7f-4406-b25a-301ab8a72886",
   "metadata": {},
   "outputs": [],
   "source": [
    "SNIa['dm'] += 2.5*np.log10(1+SNIa['hostgal_photoz'])"
   ]
  },
  {
   "cell_type": "markdown",
   "id": "f60accf2-6c2d-4e19-830d-4944fafbcd36",
   "metadata": {},
   "source": [
    "One of the big drivers of Rubin science is understanding the nature of dark energy."
   ]
  },
  {
   "cell_type": "code",
   "execution_count": null,
   "id": "9de591ff-6a87-4740-8c6e-5837c365b1b8",
   "metadata": {},
   "outputs": [],
   "source": [
    "z = np.linspace(0, 1)\n",
    "\n",
    "from astropy.cosmology import w0wzCDM\n",
    "\n",
    "cosmo1 = w0wzCDM(H0=70, Om0=0.3, Ode0=0.7, w0=-1.0, wz=0.2)\n",
    "cosmo2 = w0wzCDM(H0=70, Om0=0.3, Ode0=0.7, w0=-1.0, wz=0.0)\n",
    "\n",
    "dm_LambdaCDM1 = cosmo1.distmod(z);\n",
    "dm_LambdaCDM2 = cosmo2.distmod(z);"
   ]
  },
  {
   "cell_type": "code",
   "execution_count": null,
   "id": "676579bd-864a-4549-a394-f479c9a2c7c8",
   "metadata": {},
   "outputs": [],
   "source": [
    "plt.plot(z, dm_LambdaCDM1, ls='--', c='k', zorder=100, label='Constant Dark Energy Model')\n",
    "plt.plot(z, dm_LambdaCDM2, c='k', zorder=100, label='Redshift-Dependent Dark Energy')\n",
    "plt.plot(SNIa['hostgal_photoz'], SNIa['dm'], 'o', ms=0.5);\n",
    "plt.ylabel(r\"$\\mu_{\\rm{r,max}}$\");\n",
    "plt.xlabel(\"Redshift\");\n",
    "plt.legend(fontsize=12);\n",
    "plt.xlim((0, 1));"
   ]
  },
  {
   "cell_type": "markdown",
   "id": "08e95d1c-b563-4307-bed0-6b7f6cfea6b0",
   "metadata": {},
   "source": [
    "A pretty good match! The difference between the two models is small compared to the supernova's scatter in the way that we've done it, but there are many ways to reduce that scatter. How?\n",
    "\n",
    "1. A lot of outlier rejection from photometry checks and model fitting.\n",
    "2. Type Ia supernovae are not as standard as we suggested, and there are relationships between their color and brightness that we account for before making a plot like this. \n",
    "3. We also made some assumptions in our k-correction that are not strictly true.\n",
    "4. Finally, we're looking at supernovae in the Wide-Fast-Deep survey. In the Deep Drilling Fields, supernovae will be observed at much higher cadence and wiht higher S/N observations, which will lead to better estimates of max brightness and color corrections.\n",
    "5. Improve our redshift estimation for a better k-correction! There are many, many machine learning algorithms that are being developed for this purpose - see just a few from https://arxiv.org/pdf/2001.03621.pdf: "
   ]
  },
  {
   "cell_type": "markdown",
   "id": "f63f8010-0032-4be4-90a3-85c77c2e1b6e",
   "metadata": {},
   "source": [
    "![](media/PhotozCodes.png)"
   ]
  }
 ],
 "metadata": {
  "kernelspec": {
   "display_name": "Python 3 (ipykernel)",
   "language": "python",
   "name": "python3"
  },
  "language_info": {
   "codemirror_mode": {
    "name": "ipython",
    "version": 3
   },
   "file_extension": ".py",
   "mimetype": "text/x-python",
   "name": "python",
   "nbconvert_exporter": "python",
   "pygments_lexer": "ipython3",
   "version": "3.10.6"
  }
 },
 "nbformat": 4,
 "nbformat_minor": 5
}
